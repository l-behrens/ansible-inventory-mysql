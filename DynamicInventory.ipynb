{
 "cells": [
  {
   "cell_type": "markdown",
   "metadata": {},
   "source": [
    "# Dynamic Inventory setup ansible-inventory-mysql using postgresql\n",
    "\n",
    "https://github.com/phamhongviet/ansible-inventory-mysql\n",
    "\n",
    "##### 1. install docker inside the Jupyterlab container (only do this if you are using alpine os)"
   ]
  },
  {
   "cell_type": "code",
   "execution_count": 16,
   "metadata": {},
   "outputs": [
    {
     "name": "stdout",
     "output_type": "stream",
     "text": [
      "fetch http://dl-cdn.alpinelinux.org/alpine/v3.8/main/x86_64/APKINDEX.tar.gz\n",
      "fetch http://dl-cdn.alpinelinux.org/alpine/v3.8/community/x86_64/APKINDEX.tar.gz\n",
      "v3.8.4-135-g058d0e6ce2 [http://dl-cdn.alpinelinux.org/alpine/v3.8/main]\n",
      "v3.8.4-115-g089512e5c9 [http://dl-cdn.alpinelinux.org/alpine/v3.8/community]\n",
      "OK: 9609 distinct packages available\n",
      "OK: 505 MiB in 107 packages\n"
     ]
    }
   ],
   "source": [
    "%%sh\n",
    "\n",
    "/sbin/apk update\n",
    "/sbin/apk add docker\n",
    "\n",
    "export PATH=$PATH:/usr/bin"
   ]
  },
  {
   "cell_type": "markdown",
   "metadata": {},
   "source": [
    "##### 2. pull postgres image from dockerhub"
   ]
  },
  {
   "cell_type": "code",
   "execution_count": 1,
   "metadata": {},
   "outputs": [
    {
     "name": "stdout",
     "output_type": "stream",
     "text": [
      "11: Pulling from library/postgres\n",
      "Digest: sha256:68b49a280d2fbe9330c0031970ebb72015e1272dfa25f0ed7557514f9e5ad7b7\n",
      "Status: Image is up to date for postgres:11\n"
     ]
    }
   ],
   "source": [
    "%%sh\n",
    "/usr/bin/docker pull postgres:11"
   ]
  },
  {
   "cell_type": "markdown",
   "metadata": {},
   "source": [
    "##### 3. run a postgres docker container"
   ]
  },
  {
   "cell_type": "code",
   "execution_count": 2,
   "metadata": {},
   "outputs": [
    {
     "name": "stdout",
     "output_type": "stream",
     "text": [
      "container alredy exists\n",
      "cf9210a84bc3        postgres                    \"docker-entrypoint.s…\"   2 hours ago         Up 2 hours                              postgres\n"
     ]
    }
   ],
   "source": [
    "%%sh\n",
    "\n",
    "docker ps | grep postgres &> /dev/null\n",
    "[ $? != 0 ] && docker rm postgres && docker run --net=host --name postgres -e POSTGRES_PASSWORD=postgres -d postgres && echo \"container started\" || echo \"container alredy exists\"\n",
    "docker ps | grep postgres"
   ]
  },
  {
   "cell_type": "markdown",
   "metadata": {},
   "source": [
    "##### 4. prepare the database"
   ]
  },
  {
   "cell_type": "code",
   "execution_count": 3,
   "metadata": {},
   "outputs": [
    {
     "name": "stdout",
     "output_type": "stream",
     "text": [
      "GRANT\n",
      "GRANT\n",
      "GRANT\n",
      "                                   List of roles\n",
      " Role name |                         Attributes                         | Member of \n",
      "-----------+------------------------------------------------------------+-----------\n",
      " ans       |                                                            | {}\n",
      " postgres  | Superuser, Create role, Create DB, Replication, Bypass RLS | {}\n",
      "\n",
      "         List of relations\n",
      " Schema |   Name   | Type  | Owner \n",
      "--------+----------+-------+-------\n",
      " public | mygroups | table | ans\n",
      " public | vars     | table | ans\n",
      "(2 rows)\n",
      "\n"
     ]
    },
    {
     "name": "stderr",
     "output_type": "stream",
     "text": [
      "ERROR:  database \"ansible_inv\" already exists\n",
      "ERROR:  role \"ans\" already exists\n",
      "ERROR:  relation \"mygroups\" already exists\n"
     ]
    }
   ],
   "source": [
    "%%sh\n",
    "\n",
    "docker exec postgres /usr/bin/psql -U postgres -c \"CREATE DATABASE ansible_inv\"\n",
    "docker exec postgres /usr/bin/psql -U postgres -c \"CREATE user ans\"\n",
    "# access to the database\n",
    "docker exec postgres /usr/bin/psql -U postgres -c \"GRANT ALL PRIVILEGES ON ALL TABLES IN SCHEMA public TO ans\"\n",
    "# Usage privileges on the schema\n",
    "docker exec postgres /usr/bin/psql -U postgres -c \"GRANT CONNECT ON DATABASE ansible_inv TO ans\"\n",
    "# all permissions an all tables\n",
    "docker exec postgres /usr/bin/psql -U postgres -c \"GRANT ALL PRIVILEGES ON ALL SEQUENCES IN SCHEMA public TO ans\"\n",
    "\n",
    "# insert schema\n",
    "docker exec postgres psql -U ans --host=127.0.0.1 --port=5432 -d ansible_inv -c \"$(cat inv.sql)\"\n",
    "\n",
    "# show role attributes\n",
    "docker exec postgres /usr/bin/psql -U postgres -c \"\\du\"\n",
    "docker exec postgres psql -U ans --host=127.0.0.1 --port=5432 -d ansible_inv -c \"\\dt\"\n"
   ]
  },
  {
   "cell_type": "markdown",
   "metadata": {},
   "source": [
    "##### 5. insert some data"
   ]
  },
  {
   "cell_type": "code",
   "execution_count": 7,
   "metadata": {},
   "outputs": [
    {
     "name": "stdout",
     "output_type": "stream",
     "text": [
      "{\n",
      "    \"localhost\": {\n",
      "        \"hosts\": [\n",
      "            \"127.0.0.1\"\n",
      "        ],\n",
      "        \"children\": [],\n",
      "        \"vars\": {}\n",
      "    }\n",
      "}\n",
      "{\n",
      "    \"t\": \"{test:test}\"\n",
      "}\n"
     ]
    }
   ],
   "source": [
    "%%sh\n",
    "./inv.py --addhost localhost 127.0.0.1\n",
    "./inv.py --addhostvar 127.0.0.1 t {'test':'test'}\n",
    "./inv.py --list\n",
    "./inv.py --host 127.0.0.1"
   ]
  },
  {
   "cell_type": "markdown",
   "metadata": {},
   "source": [
    "##### 6. testing ansible inventory"
   ]
  },
  {
   "cell_type": "code",
   "execution_count": 10,
   "metadata": {},
   "outputs": [
    {
     "name": "stdout",
     "output_type": "stream",
     "text": [
      "/home/lars/develop/DB/story-5843/ansible-inventory-mysql/config.ini\n",
      "127.0.0.1 | SUCCESS => {\n",
      "    \"ansible_facts\": {\n",
      "        \"discovered_interpreter_python\": \"/usr/bin/python\"\n",
      "    },\n",
      "    \"changed\": false,\n",
      "    \"ping\": \"pong\"\n",
      "}\n"
     ]
    },
    {
     "name": "stderr",
     "output_type": "stream",
     "text": [
      " [WARNING]: Platform linux on host 127.0.0.1 is using the discovered Python\n",
      "interpreter at /usr/bin/python, but future installation of another Python\n",
      "interpreter could change this. See https://docs.ansible.com/ansible/2.8/referen\n",
      "ce_appendices/interpreter_discovery.html for more information.\n"
     ]
    }
   ],
   "source": [
    "%%sh\n",
    "export ANSIBLE_INV_CONFIG=$PWD/config.ini \n",
    "export INV_SCRIPT=$PWD/inv.py\n",
    "ansible -i $INV_SCRIPT -m ping all\n"
   ]
  },
  {
   "cell_type": "code",
   "execution_count": null,
   "metadata": {},
   "outputs": [],
   "source": []
  }
 ],
 "metadata": {
  "kernelspec": {
   "display_name": "Python 3",
   "language": "python",
   "name": "python3"
  },
  "language_info": {
   "codemirror_mode": {
    "name": "ipython",
    "version": 3
   },
   "file_extension": ".py",
   "mimetype": "text/x-python",
   "name": "python",
   "nbconvert_exporter": "python",
   "pygments_lexer": "ipython3",
   "version": "3.7.3"
  }
 },
 "nbformat": 4,
 "nbformat_minor": 2
}
